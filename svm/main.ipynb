{
 "cells": [
  {
   "cell_type": "code",
   "execution_count": 2,
   "metadata": {},
   "outputs": [
    {
     "name": "stdout",
     "output_type": "stream",
     "text": [
      "pygame 1.9.6\n",
      "Hello from the pygame community. https://www.pygame.org/contribute.html\n"
     ]
    }
   ],
   "source": [
    "import pygame\n",
    "from sklearn import svm\n",
    "from sklearn.metrics import recall_score\n",
    "import matplotlib.pyplot as plt\n",
    "import numpy as np"
   ]
  },
  {
   "cell_type": "code",
   "execution_count": 3,
   "metadata": {},
   "outputs": [],
   "source": [
    "pygame.init()\n",
    "screen = pygame.display.set_mode((600,400))\n",
    "screen.fill((255,255,255))\n",
    "pygame.display.update()"
   ]
  },
  {
   "cell_type": "code",
   "execution_count": 4,
   "metadata": {},
   "outputs": [],
   "source": [
    "clock = pygame.time.Clock()\n",
    "FPS = 60\n",
    "\n",
    "data = []\n",
    "clusters = []"
   ]
  },
  {
   "cell_type": "code",
   "execution_count": 5,
   "metadata": {},
   "outputs": [],
   "source": [
    "flag = True"
   ]
  },
  {
   "cell_type": "code",
   "execution_count": 6,
   "metadata": {},
   "outputs": [],
   "source": [
    "while flag: \n",
    "    for i in pygame.event.get():\n",
    "        \n",
    "        if i.type == pygame.QUIT: \n",
    "            pygame.quit() \n",
    "            flag = False\n",
    "            \n",
    "        if i.type==pygame.MOUSEBUTTONDOWN:\n",
    "            if i.button==1:\n",
    "                data.append(i.pos)\n",
    "                clusters.append(0)\n",
    "                pygame.draw.circle(screen, (255,0,0), i.pos, 10)\n",
    "                pygame.display.update() \n",
    "            elif i.button==3:\n",
    "                data.append(i.pos)\n",
    "                clusters.append(1)\n",
    "                pygame.draw.circle(screen, (0,255,0), i.pos, 10)\n",
    "                pygame.display.update() \n",
    "                \n",
    "        if i.type == pygame.KEYDOWN:\n",
    "            if i.key == pygame.K_RIGHT:\n",
    "                model = svm.SVC(kernel='linear', C=1.0)\n",
    "                model.fit(data, clusters)\n",
    "            \n",
    "                W = model.coef_[0]\n",
    "                I = model.intercept_\n",
    "                n = -W[0]/W[1]\n",
    "                \n",
    "                m = model.coef0\n",
    "                \n",
    "                xx = np.linspace(0, 1000, 1000)\n",
    "                yy = n * xx - I[0] / W[1]\n",
    "                \n",
    "                pygame.draw.line(screen,(134,136,134),(xx[0], yy[0]),(xx[-1], yy[-1]),2)\n",
    "                \n",
    "#                 pygame.draw.aaline(screen, (134,136,134), [0, y13], [x23, 0])\n",
    "#                 pygame.draw.aaline(screen, (134,136,134), [0, y12], [x22, 0])\n",
    "#                 pygame.draw.line(screen, (134,136,134), [0, y11], [x11, 0], 2)\n",
    "                pygame.display.update()\n",
    "                \n",
    "    clock.tick(FPS)"
   ]
  },
  {
   "cell_type": "code",
   "execution_count": null,
   "metadata": {},
   "outputs": [],
   "source": []
  }
 ],
 "metadata": {
  "kernelspec": {
   "display_name": "Python 3",
   "language": "python",
   "name": "python3"
  },
  "language_info": {
   "codemirror_mode": {
    "name": "ipython",
    "version": 3
   },
   "file_extension": ".py",
   "mimetype": "text/x-python",
   "name": "python",
   "nbconvert_exporter": "python",
   "pygments_lexer": "ipython3",
   "version": "3.8.3"
  }
 },
 "nbformat": 4,
 "nbformat_minor": 4
}
