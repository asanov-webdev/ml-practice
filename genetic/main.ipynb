{
 "cells": [
  {
   "cell_type": "code",
   "execution_count": 25,
   "metadata": {},
   "outputs": [],
   "source": [
    "import numpy"
   ]
  },
  {
   "cell_type": "code",
   "execution_count": 26,
   "metadata": {},
   "outputs": [],
   "source": [
    "def genetic_algorithm(inputs, new_population, parents_num, population_size, num_weights, num_generations):\n",
    "    print(\"---------------------------------------\")\n",
    "    print(\"Genetic algorithm\")\n",
    "    for generation in range(num_generations):\n",
    "        print(\"Generation : \", generation)\n",
    "        fitness = calculate_fitness(inputs, new_population)\n",
    "        parents = select_the_best_individuals(new_population, fitness, parents_num)\n",
    "        offspring_crossover = crossover(parents,offspring_size=(population_size[0]-parents.shape[0], num_weights))\n",
    "        offspring_mutation = mutation(offspring_crossover)\n",
    "        new_population[0:parents.shape[0], :] = parents\n",
    "        new_population[parents.shape[0]:, :] = offspring_mutation\n",
    "        print(\"Best result : \", numpy.max(numpy.sum(new_population*inputs, axis=1)))\n",
    "    \n",
    "\n",
    "# Измерение пригодности каждой хромосомы в популяции\n",
    "# Функция вычисляет сумму произведений между каждым входом и соответствующим ему весом\n",
    "def calculate_fitness(inputs, pop):\n",
    "    fitness = numpy.sum(pop*inputs, axis=1)\n",
    "    return fitness\n",
    "\n",
    "# Выбор лучших особей текущего поколения в качестве родителей для производства потомков следующего поколения.\n",
    "def select_the_best_individuals(pop, fitness, num_parents):\n",
    "    parents = numpy.empty((num_parents, pop.shape[1]))\n",
    "    for parent_num in range(num_parents):\n",
    "        max_fitness_idx = numpy.where(fitness == numpy.max(fitness))\n",
    "        max_fitness_idx = max_fitness_idx[0][0]\n",
    "        parents[parent_num, :] = pop[max_fitness_idx, :]\n",
    "        fitness[max_fitness_idx] = -99999999999\n",
    "    return parents\n",
    "\n",
    "# Создание нового поколения с использованием кроссовера\n",
    "def crossover(parents, offspring_size):\n",
    "    offspring = numpy.empty(offspring_size)\n",
    "    # Точка, в которой происходит спаривание между двумя родителями\n",
    "    crossover_point = numpy.uint8(offspring_size[1]/2)\n",
    "\n",
    "    for k in range(offspring_size[0]):\n",
    "        # Индекс первого спарившегося родителя\n",
    "        parent1_idx = k%parents.shape[0]\n",
    "        # Индекс второго спарившегося родителя\n",
    "        parent2_idx = (k+1)%parents.shape[0]\n",
    "        # У нового потомства первая половина генов будет взята от первого родителя, а вторая половина от второго\n",
    "        offspring[k, 0:crossover_point] = parents[parent1_idx, 0:crossover_point]\n",
    "        offspring[k, crossover_point:] = parents[parent2_idx, crossover_point:]\n",
    "    return offspring\n",
    "\n",
    "def mutation(offspring_crossover):\n",
    "    # Мутация изменяет один ген в каждом потомстве случайным образом\n",
    "    for idx in range(offspring_crossover.shape[0]):\n",
    "        # Рандомное значение будет добавлено в ген\n",
    "        random_value = numpy.random.uniform(-1.0, 1.0, 1)\n",
    "        offspring_crossover[idx, 4] = offspring_crossover[idx, 4] + random_value\n",
    "    return offspring_crossover"
   ]
  },
  {
   "cell_type": "code",
   "execution_count": 30,
   "metadata": {},
   "outputs": [
    {
     "name": "stdout",
     "output_type": "stream",
     "text": [
      "Создание начальной популяции:\n",
      "[[ 1.7579208   2.01548164 -3.36380686 -1.27640035  1.05366959  0.32684877]\n",
      " [-0.10233826 -3.11819151 -0.53379796  1.28858591  3.14573698  3.91227553]\n",
      " [-0.32691342 -2.41035688  0.335337    1.80962837 -3.67365275  2.13554758]\n",
      " [-3.11467135  0.28309552  0.47279332 -2.35426568 -0.33664597  1.70795844]\n",
      " [ 0.99956176  3.16918065  3.10931113  0.50288287  2.40479116  1.62416095]\n",
      " [-0.87367029 -1.0413695  -2.51540927 -0.70078393  2.65346025  1.56787281]\n",
      " [ 0.29646758  2.88574253  3.79069274  3.44110746  3.72249464  0.11254934]\n",
      " [ 0.07709443 -1.27162915  0.98552952  1.90010551 -0.82504903  1.4076766 ]]\n",
      "---------------------------------------\n",
      "Genetic algorithm\n",
      "Generation :  0\n",
      "Best result :  72.59629729662132\n",
      "Generation :  1\n",
      "Best result :  73.51548176060618\n",
      "Generation :  2\n",
      "Best result :  75.81893296273189\n",
      "Generation :  3\n",
      "Best result :  75.81893296273189\n",
      "Generation :  4\n",
      "Best result :  79.07597019869162\n",
      "---------------------------------------\n",
      "Best solution :  [[[0.29646758 2.88574253 3.79069274 1.28858591 4.26664898 3.91227553]]]\n",
      "Best solution fitness :  [79.0759702]\n"
     ]
    }
   ],
   "source": [
    "# Инициализация\n",
    "inputs = [3,1.4,3.5,8,3.6,9]\n",
    "num_weights = 6\n",
    "number_of_chromosomes = 8\n",
    "parents_num = 4\n",
    "num_generations = 5\n",
    "\n",
    "# У популяции будет number_of_chromosomes хромосом, где каждая хромосома имеет num_weights генов\n",
    "population_size = (number_of_chromosomes,num_weights)\n",
    "# Создание начальной популяции\n",
    "new_population = numpy.random.uniform(low=-4.0, high=4.0, size=population_size)\n",
    "print(\"Создание начальной популяции:\")\n",
    "print(new_population)\n",
    "\n",
    "genetic_algorithm(inputs, new_population, parents_num, population_size, num_weights, num_generations)\n",
    "\n",
    "fitness = calculate_fitness(inputs, new_population)\n",
    "# Вернет индекс решения, соответствующего наилучшей пригодности\n",
    "best_match_idx = numpy.where(fitness == numpy.max(fitness))\n",
    "print(\"---------------------------------------\")\n",
    "print(\"Best solution : \", new_population[best_match_idx, :])\n",
    "print(\"Best solution fitness : \", fitness[best_match_idx])"
   ]
  }
 ],
 "metadata": {
  "kernelspec": {
   "display_name": "Python 3",
   "language": "python",
   "name": "python3"
  },
  "language_info": {
   "codemirror_mode": {
    "name": "ipython",
    "version": 3
   },
   "file_extension": ".py",
   "mimetype": "text/x-python",
   "name": "python",
   "nbconvert_exporter": "python",
   "pygments_lexer": "ipython3",
   "version": "3.8.3"
  }
 },
 "nbformat": 4,
 "nbformat_minor": 4
}
